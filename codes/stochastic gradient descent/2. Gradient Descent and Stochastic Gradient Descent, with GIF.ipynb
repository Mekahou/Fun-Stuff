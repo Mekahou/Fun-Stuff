{
 "cells": [
  {
   "cell_type": "markdown",
   "metadata": {},
   "source": [
    "# Setup\n",
    "Consider the following data generating process: \n",
    "\n",
    "$\\begin{align}\n",
    "y = a + bx + \\epsilon,\n",
    "\\end{align}$\n",
    "\n",
    "where $y\\in \\mathbb{R}$, $x \\in \\mathbb{R}$, and $\\mathbb{E}[\\epsilon|x] = 0$.\n",
    "\n",
    "We obeserve $\\{y_i,x_i\\}_{i=1}^N$ and we want to run the following linear regression:\n",
    "\n",
    "$\\begin{align}\n",
    "y_i = \\hat{a}+\\hat{b} x_i.\n",
    "\\end{align}$\n",
    "\n",
    "Here I compare two different approaches to optimization:\n",
    "\n",
    "1. Gradient Descent\n",
    "\n",
    "2. Stochastic Gradient Descent: **One** data point at a time\n",
    "\n",
    "In this experiment:\n",
    "\n",
    "1. $(a,b) = (1,1)$\n",
    "2. $\\epsilon = 0.1\\times \\mathcal{N}(0,1)$"
   ]
  },
  {
   "cell_type": "markdown",
   "metadata": {},
   "source": [
    "#### Importing Packages"
   ]
  },
  {
   "cell_type": "code",
   "execution_count": 1,
   "metadata": {},
   "outputs": [],
   "source": [
    "import numpy as np\n",
    "import torch\n",
    "import torch.nn as nn\n",
    "import torch.nn.functional as F\n",
    "from torch.utils.data import Dataset, DataLoader\n",
    "import matplotlib.pyplot as plt\n",
    "from matplotlib import cm"
   ]
  },
  {
   "cell_type": "code",
   "execution_count": 2,
   "metadata": {},
   "outputs": [],
   "source": [
    "fontsize= 16\n",
    "ticksize = 14\n",
    "figsize = (12, 6)\n",
    "params_plt = {\"text.usetex\": True,\n",
    "    'font.family':'serif',\n",
    "    \"figure.figsize\":figsize, \n",
    "    'figure.dpi': 80,\n",
    "    'figure.edgecolor': 'k',\n",
    "    'font.size': fontsize, \n",
    "    'axes.labelsize': fontsize,\n",
    "    'axes.titlesize': fontsize,\n",
    "    'xtick.labelsize': ticksize,\n",
    "    'ytick.labelsize': ticksize\n",
    "}\n",
    "plt.rcParams.update(params_plt)"
   ]
  },
  {
   "cell_type": "markdown",
   "metadata": {},
   "source": [
    "#### Data Generating Process"
   ]
  },
  {
   "cell_type": "code",
   "execution_count": 3,
   "metadata": {},
   "outputs": [],
   "source": [
    "class Data_gen():\n",
    "    def __init__(self, \n",
    "                 a =1.0,\n",
    "                b = 1.0,\n",
    "                N = 32,\n",
    "                sigma = 0.1):\n",
    "        torch.manual_seed(0)\n",
    "        self.a= a\n",
    "        self.b = b\n",
    "        self.N = N\n",
    "        self.sigma = sigma\n",
    "        self.ϵ = self.sigma*torch.randn(N)\n",
    "        self.x = torch.arange(0.0,self.N,1)/self.N\n",
    "        self.y = self.a+ self.b*self.x+self.ϵ\n",
    "    def train_data(self):\n",
    "        data = torch.stack((self.x,self.y),1)\n",
    "        return data\n"
   ]
  },
  {
   "cell_type": "markdown",
   "metadata": {},
   "source": [
    "#### Plotting the Data Points"
   ]
  },
  {
   "cell_type": "code",
   "execution_count": 4,
   "metadata": {},
   "outputs": [],
   "source": [
    "x = Data_gen().train_data()[:,[0]]\n",
    "y = Data_gen().train_data()[:,[1]] \n"
   ]
  },
  {
   "cell_type": "code",
   "execution_count": 5,
   "metadata": {},
   "outputs": [
    {
     "data": {
      "image/png": "[encoded data removed]",
      "text/plain": [
       "<Figure size 960x480 with 1 Axes>"
      ]
     },
     "metadata": {
      "needs_background": "light"
     },
     "output_type": "display_data"
    }
   ],
   "source": [
    "plt.scatter(x,y, zorder=2,label= r\"Data Points\")\n",
    "plt.ylabel(r\"$y$\",fontsize=18)\n",
    "plt.xlabel(r\"$x$\",fontsize=18)\n",
    "plt.legend(loc='best')\n",
    "plt.show()"
   ]
  },
  {
   "cell_type": "markdown",
   "metadata": {},
   "source": [
    "#### Finding the OLS estimator\n",
    "\n",
    "$\\begin{align}\n",
    "\\begin{pmatrix}\n",
    "\\hat{a}\\\\\n",
    "\\hat{b}\n",
    "\\end{pmatrix} = (X'X)^{-1} X'y\n",
    "\\end{align}$\n",
    "\n",
    "where \n",
    "\n",
    "$X \\equiv \\begin{bmatrix}\n",
    "1 & x_1\\\\\n",
    "1 & x_2\\\\\n",
    "\\vdots & \\vdots\\\\\n",
    "1 & x_N\n",
    "\\end{bmatrix}$, and $y \\equiv \\begin{bmatrix}\n",
    "y_1\\\\\n",
    "y_2\\\\\n",
    "\\vdots\\\\\n",
    "y_N\n",
    "\\end{bmatrix}$."
   ]
  },
  {
   "cell_type": "code",
   "execution_count": 6,
   "metadata": {},
   "outputs": [
    {
     "name": "stdout",
     "output_type": "stream",
     "text": [
      "a_hat= 0.949\n",
      "b_hat= 1.108\n"
     ]
    }
   ],
   "source": [
    "X = torch.cat((torch.ones([Data_gen().N,1]),x),1)\n",
    "ols_coeff = torch.inverse(X.t()@X)@X.t()@y\n",
    "\n",
    "a_hat_ols = ols_coeff[0]\n",
    "b_hat_ols = ols_coeff[1]\n",
    "print('a_hat=',round(a_hat_ols.item(),3))\n",
    "print('b_hat=',round(b_hat_ols.item(),3))\n"
   ]
  },
  {
   "cell_type": "markdown",
   "metadata": {},
   "source": [
    "#### Designing the Linear Neural Net:\n",
    "Here we initialize the coefficients to:\n",
    "\n",
    "1. Intercept: 3.0\n",
    "2. Slope: -1.5\n"
   ]
  },
  {
   "cell_type": "code",
   "execution_count": 7,
   "metadata": {},
   "outputs": [],
   "source": [
    "class NN(nn.Module):\n",
    "    def __init__(self,\n",
    "                hidden_bias = True):\n",
    "        super().__init__()\n",
    "        self.hidden_bias = hidden_bias\n",
    "        \n",
    "        self.fc1 = nn.Linear(1,1, bias = self.hidden_bias)\n",
    "        #hardcoding the initial weights\n",
    "        self.fc1.weight.data = torch.tensor([[-1.5]])\n",
    "        self.fc1.bias.data = torch.tensor([[3.0]])\n",
    "    \n",
    "    def forward(self, x):\n",
    "        p_output = self.fc1(x)\n",
    "        return  p_output "
   ]
  },
  {
   "cell_type": "markdown",
   "metadata": {},
   "source": [
    "#### Designing the Data Loader:\n",
    "This is required to pass the data one by one to the optimizer"
   ]
  },
  {
   "cell_type": "code",
   "execution_count": 8,
   "metadata": {},
   "outputs": [],
   "source": [
    "class Dataset_loader(Dataset):\n",
    "    def __init__(self):\n",
    "        self.train_data = Data_gen().train_data()\n",
    "        self.x = self.train_data[:,[0]]\n",
    "        self.y = self.train_data[:,1:]\n",
    "        self.n_samples = self.train_data.shape[0]\n",
    "    \n",
    "    def __getitem__(self,index):\n",
    "        return self.x[index], self.y[index]\n",
    "    \n",
    "    def __len__(self):\n",
    "        return self.n_samples\n",
    "      "
   ]
  },
  {
   "cell_type": "code",
   "execution_count": 9,
   "metadata": {},
   "outputs": [],
   "source": [
    "dataset = Dataset_loader()\n",
    "dataloader_GD = DataLoader(dataset = dataset, batch_size = Data_gen().N , shuffle = False) #GD: the whole data is passed\n",
    "dataloader_SGD = DataLoader(dataset = dataset, batch_size = 1 , shuffle = True) #SGD: the data is passed one by one "
   ]
  },
  {
   "cell_type": "markdown",
   "metadata": {},
   "source": [
    "#### Training Loop: Gradient Descent"
   ]
  },
  {
   "cell_type": "code",
   "execution_count": 10,
   "metadata": {},
   "outputs": [],
   "source": [
    "model_GD = NN()\n",
    "\n",
    "learning_rate = 1e-1\n",
    "optimizer = torch.optim.Adam(model_GD.parameters(), lr=learning_rate, weight_decay=0.0)\n",
    "num_epochs = 100"
   ]
  },
  {
   "cell_type": "code",
   "execution_count": 11,
   "metadata": {},
   "outputs": [],
   "source": [
    "weight_GD = []\n",
    "bias_GD = []"
   ]
  },
  {
   "cell_type": "code",
   "execution_count": 12,
   "metadata": {},
   "outputs": [
    {
     "name": "stdout",
     "output_type": "stream",
     "text": [
      "0 , 1.20e+00\n",
      "20 , 2.59e-01\n",
      "40 , 2.67e-02\n",
      "60 , 9.71e-03\n",
      "80 , 9.70e-03\n"
     ]
    }
   ],
   "source": [
    "for epoch in range(num_epochs):\n",
    "    for i, (x,y) in enumerate(dataloader_GD):\n",
    "        weight_GD.append(model_GD.state_dict()['fc1.weight'].item())\n",
    "        bias_GD.append(model_GD.state_dict()['fc1.bias'].item())\n",
    "        res = y - model_GD(x)\n",
    "        loss = res.pow(2).mean()\n",
    "        optimizer.zero_grad()\n",
    "        \n",
    "        loss.backward()\n",
    "        optimizer.step()\n",
    "                \n",
    "    if epoch % 20 == 0:\n",
    "        print(epoch,',',\"{:.2e}\".format(loss.detach().numpy()))       \n",
    "        \n",
    "        "
   ]
  },
  {
   "cell_type": "code",
   "execution_count": 13,
   "metadata": {},
   "outputs": [],
   "source": [
    "bias_GD = np.array(bias_GD)\n",
    "weight_GD = np.array(weight_GD)"
   ]
  },
  {
   "cell_type": "markdown",
   "metadata": {},
   "source": [
    "#### Training Loop SGD"
   ]
  },
  {
   "cell_type": "code",
   "execution_count": 14,
   "metadata": {},
   "outputs": [],
   "source": [
    "model_SGD = NN()\n",
    "\n",
    "learning_rate = 1e-1\n",
    "optimizer = torch.optim.Adam(model_SGD.parameters(), lr=learning_rate, weight_decay=0.0)\n",
    "\n",
    "num_epochs = 10"
   ]
  },
  {
   "cell_type": "code",
   "execution_count": 15,
   "metadata": {},
   "outputs": [],
   "source": [
    "weight_SGD = []\n",
    "bias_SGD = []"
   ]
  },
  {
   "cell_type": "code",
   "execution_count": 16,
   "metadata": {},
   "outputs": [
    {
     "name": "stdout",
     "output_type": "stream",
     "text": [
      "0 , 1.31e+00\n",
      "5 , 1.58e-02\n"
     ]
    }
   ],
   "source": [
    "for epoch in range(num_epochs):\n",
    "    for i, (x,y) in enumerate(dataloader_SGD):\n",
    "        weight_SGD.append(model_SGD.state_dict()['fc1.weight'].item())\n",
    "        bias_SGD.append(model_SGD.state_dict()['fc1.bias'].item())\n",
    "        res = y - model_SGD(x)\n",
    "        loss = res.pow(2).mean()\n",
    "        optimizer.zero_grad()    \n",
    "        loss.backward()\n",
    "        optimizer.step()\n",
    "    if epoch % 5 == 0:\n",
    "        print(epoch,',',\"{:.2e}\".format(loss.detach().numpy()))"
   ]
  },
  {
   "cell_type": "code",
   "execution_count": 17,
   "metadata": {},
   "outputs": [],
   "source": [
    "bias_SGD = np.array(bias_SGD)\n",
    "weight_SGD = np.array(weight_SGD)"
   ]
  },
  {
   "cell_type": "markdown",
   "metadata": {},
   "source": [
    "### Plotting"
   ]
  },
  {
   "cell_type": "markdown",
   "metadata": {},
   "source": [
    "#### Plotting $\\hat{a}$"
   ]
  },
  {
   "cell_type": "code",
   "execution_count": 18,
   "metadata": {},
   "outputs": [
    {
     "data": {
      "image/png": "[encoded data removed]",
      "text/plain": [
       "<Figure size 960x480 with 2 Axes>"
      ]
     },
     "metadata": {
      "needs_background": "light"
     },
     "output_type": "display_data"
    }
   ],
   "source": [
    "plt.subplot(1, 2, 1)\n",
    "plt.plot(bias_SGD,label= r\"Stochastic Gradient Descent\")\n",
    "plt.axhline(a_hat_ols.item(),linewidth=1, color='r', label = r\"$\\hat{a}_{OLS}$\" )\n",
    "plt.xlabel(r\"Optimization Step\")\n",
    "plt.ylabel(r\"$\\hat{a}$\")\n",
    "plt.legend(loc='best')\n",
    "\n",
    "plt.subplot(1,2,2)\n",
    "plt.plot(bias_GD,label= r\"Gradient descent\")\n",
    "plt.axhline(a_hat_ols.item(),linewidth=1, color='r', label = r\"$\\hat{a}_{OLS}$\" )\n",
    "plt.xlabel(r\"Optimization Step\")\n",
    "plt.ylabel(r\"$\\hat{a}$\")\n",
    "plt.legend(loc='best')\n",
    "\n",
    "plt.show()\n"
   ]
  },
  {
   "cell_type": "markdown",
   "metadata": {},
   "source": [
    "#### Plotting $\\hat{b}$"
   ]
  },
  {
   "cell_type": "code",
   "execution_count": 19,
   "metadata": {},
   "outputs": [
    {
     "data": {
      "image/png": "[encoded data removed]",
      "text/plain": [
       "<Figure size 960x480 with 2 Axes>"
      ]
     },
     "metadata": {
      "needs_background": "light"
     },
     "output_type": "display_data"
    }
   ],
   "source": [
    "plt.subplot(1, 2, 1)\n",
    "plt.plot(weight_SGD,label= r\"Stochastic Gradient Descent\")\n",
    "plt.axhline(b_hat_ols.item(),linewidth=1, color='r', label = r\"$\\hat{b}_{OLS}$\")\n",
    "plt.ylabel(r\"$\\hat{b}$\")\n",
    "plt.xlabel(r\"Optimization Step\")\n",
    "plt.legend(loc='lower right')\n",
    "\n",
    "\n",
    "plt.subplot(1,2,2)\n",
    "plt.plot(weight_GD,label= r\"Gradient Descent\")\n",
    "plt.axhline(b_hat_ols.item(),linewidth=1, color='r', label = r\"$\\hat{b}_{OLS}$\")\n",
    "plt.ylabel(r\"$\\hat{b}$\")\n",
    "plt.xlabel(r\"Optimization Step\")\n",
    "plt.legend(loc='lower right')\n",
    "plt.show()\n"
   ]
  },
  {
   "cell_type": "markdown",
   "metadata": {},
   "source": [
    "# Creating the gif "
   ]
  },
  {
   "cell_type": "code",
   "execution_count": 20,
   "metadata": {},
   "outputs": [],
   "source": [
    "fontsize= 16\n",
    "ticksize = 14\n",
    "figsize = (6, 3.5)\n",
    "params = {\"text.usetex\": True,\n",
    "    'font.family':'serif',\n",
    "    \"figure.figsize\":figsize, \n",
    "    'figure.dpi': 80,\n",
    "    'figure.edgecolor': 'k',\n",
    "    'font.size': fontsize, \n",
    "    'axes.labelsize': fontsize,\n",
    "    'axes.titlesize': fontsize,\n",
    "    'xtick.labelsize': ticksize,\n",
    "    'ytick.labelsize': ticksize\n",
    "}\n",
    "plt.rcParams.update(params) "
   ]
  },
  {
   "cell_type": "code",
   "execution_count": 21,
   "metadata": {},
   "outputs": [],
   "source": [
    "import os\n",
    "import numpy as np\n",
    "import matplotlib.pyplot as plt\n",
    "import imageio"
   ]
  },
  {
   "cell_type": "code",
   "execution_count": 22,
   "metadata": {},
   "outputs": [],
   "source": [
    "filenames = []\n",
    "for i in range(len(weight_SGD)):\n",
    "    # plot the line chart\n",
    "    plt.plot(weight_SGD[:i],label= r\"Stochastic Gradient Descent\" )\n",
    "    plt.axhline(b_hat_ols.item(),linewidth=1, color='r', label = r\"$\\hat{b}_{OLS}$\")\n",
    "    plt.ylabel(r\"$\\hat{b}$\")\n",
    "    plt.xlabel(r\"Optimization Step\")\n",
    "    plt.legend(loc='lower right')\n",
    "    plt.ylim(-2.0,1.2)\n",
    "    plt.xlim(0,320)\n",
    "    plt.tight_layout()\n",
    "    # create file name and append it to a list\n",
    "    filename = f'{i}.png'\n",
    "    filenames.append(filename)\n",
    "    \n",
    "    # save frame\n",
    "    plt.savefig(filename)\n",
    "    plt.close()# build gif\n",
    "with imageio.get_writer('SGD_LOS_b.gif', mode='I') as writer:\n",
    "    for filename in filenames:\n",
    "        image = imageio.imread(filename)\n",
    "        writer.append_data(image)\n",
    "        \n",
    "# Remove files\n",
    "for filename in set(filenames):\n",
    "    os.remove(filename)"
   ]
  },
  {
   "cell_type": "code",
   "execution_count": 23,
   "metadata": {},
   "outputs": [],
   "source": [
    "filenames = []\n",
    "for i in range(len(bias_SGD)):\n",
    "    # plot the line chart\n",
    "    plt.plot(bias_SGD[:i],label= r\"Stochastic Gradient Descent\" )\n",
    "    plt.axhline(a_hat_ols.item(),linewidth=1, color='r', label = r\"$\\hat{a}_{OLS}$\")\n",
    "    plt.ylabel(r\"$\\hat{a}$\")\n",
    "    plt.xlabel(r\"Optimization Step\")\n",
    "    plt.legend(loc='upper right')\n",
    "    plt.ylim(0.5,3.0)\n",
    "    plt.xlim(0,320)\n",
    "    plt.tight_layout()\n",
    "    # create file name and append it to a list\n",
    "    filename = f'{i}.png'\n",
    "    filenames.append(filename)\n",
    "    \n",
    "    # save frame\n",
    "    plt.savefig(filename)\n",
    "    plt.close()# build gif\n",
    "with imageio.get_writer('SGD_LOS_a.gif', mode='I') as writer:\n",
    "    for filename in filenames:\n",
    "        image = imageio.imread(filename)\n",
    "        writer.append_data(image)\n",
    "        \n",
    "# Remove files\n",
    "for filename in set(filenames):\n",
    "    os.remove(filename)"
   ]
  }
 ],
 "metadata": {
  "kernelspec": {
   "display_name": "Python 3",
   "language": "python",
   "name": "python3"
  },
  "language_info": {
   "codemirror_mode": {
    "name": "ipython",
    "version": 3
   },
   "file_extension": ".py",
   "mimetype": "text/x-python",
   "name": "python",
   "nbconvert_exporter": "python",
   "pygments_lexer": "ipython3",
   "version": "3.8.8"
  }
 },
 "nbformat": 4,
 "nbformat_minor": 4
}
