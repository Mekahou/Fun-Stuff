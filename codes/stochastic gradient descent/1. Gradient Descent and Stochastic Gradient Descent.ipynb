{
 "cells": [
  {
   "cell_type": "code",
   "execution_count": 1,
   "metadata": {},
   "outputs": [],
   "source": [
    "import numpy as np\n",
    "import torch\n",
    "import torch.nn as nn\n",
    "import torch.nn.functional as F"
   ]
  },
  {
   "cell_type": "code",
   "execution_count": 2,
   "metadata": {},
   "outputs": [],
   "source": [
    "from torch.utils.data import Dataset, DataLoader"
   ]
  },
  {
   "cell_type": "code",
   "execution_count": 3,
   "metadata": {},
   "outputs": [],
   "source": [
    "import matplotlib.pyplot as plt\n",
    "from matplotlib import cm"
   ]
  },
  {
   "cell_type": "markdown",
   "metadata": {},
   "source": [
    "# Data Generating Process \n",
    "Consider a simple case as follows: \n",
    "\n",
    "$y = a+ b x + e$,\n",
    "\n",
    "where $y\\in \\mathbb{R}$, and $x \\in \\mathbb{R}$. Consider we observe $\\{x_i,y_i\\}_{i=1}^N$, and we want run the following regression\n",
    "\n",
    "$y_i  = \\hat{a}+\\hat{b} x_i$. We do this in two different method of opimization, \n",
    "\n",
    "(1) Gradient Descent\n",
    "\n",
    "(2) Stochastic Gradient Descent\n",
    "\n"
   ]
  },
  {
   "cell_type": "code",
   "execution_count": 4,
   "metadata": {},
   "outputs": [],
   "source": [
    "class Data_gen():\n",
    "    def __init__(self, \n",
    "                 a =1.0,\n",
    "                b = 1.0,\n",
    "                N = 32,\n",
    "                sigma = 0.1):\n",
    "        torch.manual_seed(0)\n",
    "        self.a= a\n",
    "        self.b = b\n",
    "        self.N = N\n",
    "        self.sigma = sigma\n",
    "        self.e = self.sigma*torch.randn(N)\n",
    "        self.x = torch.arange(0.0,self.N,1)/self.N\n",
    "        self.y = self.a+ self.b*self.x+self.e\n",
    "    def train_data(self):\n",
    "        data = torch.stack((self.x,self.y),1)\n",
    "        return data\n"
   ]
  },
  {
   "cell_type": "code",
   "execution_count": 5,
   "metadata": {},
   "outputs": [],
   "source": [
    "x = Data_gen().train_data()[:,[0]]\n",
    "y = Data_gen().train_data()[:,[1]] \n"
   ]
  },
  {
   "cell_type": "code",
   "execution_count": 6,
   "metadata": {},
   "outputs": [
    {
     "data": {
      "image/png": "[encoded data removed]",
      "text/plain": [
       "<Figure size 432x288 with 1 Axes>"
      ]
     },
     "metadata": {
      "needs_background": "light"
     },
     "output_type": "display_data"
    }
   ],
   "source": [
    "plt.scatter(x,y, zorder=1,label= r\"Data\")\n",
    "plt.ylabel(r\"$Y$\",fontsize=18)\n",
    "plt.xlabel(r\"$X$\",fontsize=18)\n",
    "plt.legend(loc='best')\n",
    "plt.show()"
   ]
  },
  {
   "cell_type": "markdown",
   "metadata": {},
   "source": [
    "Finding the OLS estimators:\n",
    "\n",
    "$\\hat{b} = \\frac{\\hat{cov}(x,y)}{\\hat{var}(x)}$\n",
    "\n",
    "$\\hat{a} = \\hat{\\mathbb{E}}[y]- \\hat{b}~\\hat{\\mathbb{E}}(x)$"
   ]
  },
  {
   "cell_type": "code",
   "execution_count": 7,
   "metadata": {},
   "outputs": [],
   "source": [
    "dx = x-x.mean()\n",
    "dy = y-y.mean()\n",
    "cov = torch.matmul(dx.t(),dy)\n",
    "var_x = torch.matmul(dx.t(),dx)"
   ]
  },
  {
   "cell_type": "code",
   "execution_count": 8,
   "metadata": {},
   "outputs": [
    {
     "name": "stdout",
     "output_type": "stream",
     "text": [
      "b_hat= 1.107523798942566\n",
      "a_hat= 0.9485774040222168\n"
     ]
    }
   ],
   "source": [
    "b_hat_ols = cov/var_x\n",
    "a_hat_ols = y.mean() - b_hat_ols* x.mean()\n",
    "print('b_hat=',b_hat_ols.item())\n",
    "print('a_hat=',a_hat_ols.item())"
   ]
  },
  {
   "cell_type": "markdown",
   "metadata": {},
   "source": [
    "# Designing the neural Net"
   ]
  },
  {
   "cell_type": "code",
   "execution_count": 9,
   "metadata": {},
   "outputs": [],
   "source": [
    "class NN(nn.Module):\n",
    "    # This accepts an input of the form torch.Size([M, N])\n",
    "    # M = sample size\n",
    "    # N = number of firms (features)\n",
    "    # output =  torch.Size([M, 1])\n",
    "    def __init__(self,\n",
    "                hidden_bias = True):\n",
    "        super().__init__()\n",
    "        self.hidden_bias = hidden_bias\n",
    "        \n",
    "        self.fc1 = nn.Linear(1,1, bias = self.hidden_bias)\n",
    "        #hardcoding the initial weights\n",
    "        self.fc1.weight.data = torch.tensor([[-1.5]])\n",
    "        self.fc1.bias.data = torch.tensor([[3.0]])\n",
    "    \n",
    "    def forward(self, x):\n",
    "        p_output = self.fc1(x)\n",
    "        return  p_output "
   ]
  },
  {
   "cell_type": "markdown",
   "metadata": {},
   "source": [
    "# Designing the dataloader"
   ]
  },
  {
   "cell_type": "code",
   "execution_count": 10,
   "metadata": {},
   "outputs": [],
   "source": [
    "class Dataset_loader(Dataset):\n",
    "    def __init__(self):\n",
    "        self.train_data = Data_gen().train_data()\n",
    "        self.x = self.train_data[:,[0]]\n",
    "        self.y = self.train_data[:,1:]\n",
    "        self.n_samples = self.train_data.shape[0]\n",
    "    \n",
    "    def __getitem__(self,index):\n",
    "        return self.x[index], self.y[index]\n",
    "    \n",
    "    def __len__(self):\n",
    "        return self.n_samples\n",
    "      "
   ]
  },
  {
   "cell_type": "code",
   "execution_count": 11,
   "metadata": {},
   "outputs": [],
   "source": [
    "dataset = Dataset_loader()\n",
    "dataloader_GD = DataLoader(dataset = dataset, batch_size = Data_gen().N , shuffle = False)\n",
    "dataloader_SGD = DataLoader(dataset = dataset, batch_size = 1 , shuffle = True)"
   ]
  },
  {
   "cell_type": "markdown",
   "metadata": {},
   "source": [
    "# Training Loop GD"
   ]
  },
  {
   "cell_type": "code",
   "execution_count": 12,
   "metadata": {},
   "outputs": [],
   "source": [
    "model = NN()\n",
    "\n",
    "learning_rate = 1e-1\n",
    "optimizer = torch.optim.Adam(model.parameters(), lr=learning_rate, weight_decay=0.0)\n",
    "\n",
    "num_epochs = 100"
   ]
  },
  {
   "cell_type": "code",
   "execution_count": 13,
   "metadata": {},
   "outputs": [],
   "source": [
    "weight_GD = []\n",
    "bias_GD = []"
   ]
  },
  {
   "cell_type": "code",
   "execution_count": 14,
   "metadata": {},
   "outputs": [],
   "source": [
    "\n",
    "for epoch in range(num_epochs):\n",
    "    for i, (x,y) in enumerate(dataloader_GD):\n",
    "        weight_GD.append(model.state_dict()['fc1.weight'].item())\n",
    "        bias_GD.append(model.state_dict()['fc1.bias'].item())\n",
    "        res = y - model(x)\n",
    "        loss = res.pow(2).mean()\n",
    "        optimizer.zero_grad() #this is essentially  with torch.no_grad():\n",
    "\n",
    "        loss.backward()\n",
    "        optimizer.step()\n",
    "                \n",
    "    #if epoch % 100 == 0:\n",
    "    #    print(epoch,',',\"{:.2e}\".format(loss.detach().numpy()))       \n",
    "        \n",
    "        "
   ]
  },
  {
   "cell_type": "code",
   "execution_count": 15,
   "metadata": {},
   "outputs": [],
   "source": [
    "bias_GD = np.array(bias_GD)\n",
    "weight_GD = np.array(weight_GD)"
   ]
  },
  {
   "cell_type": "markdown",
   "metadata": {},
   "source": [
    "# Training Loop SGD"
   ]
  },
  {
   "cell_type": "code",
   "execution_count": 16,
   "metadata": {},
   "outputs": [],
   "source": [
    "model = NN()\n",
    "\n",
    "learning_rate = 1e-1\n",
    "optimizer = torch.optim.Adam(model.parameters(), lr=learning_rate, weight_decay=0.0)\n",
    "\n",
    "num_epochs = 10"
   ]
  },
  {
   "cell_type": "code",
   "execution_count": 17,
   "metadata": {},
   "outputs": [],
   "source": [
    "weight_SGD = []\n",
    "bias_SGD = []"
   ]
  },
  {
   "cell_type": "code",
   "execution_count": 18,
   "metadata": {},
   "outputs": [],
   "source": [
    "for epoch in range(num_epochs):\n",
    "    for i, (x,y) in enumerate(dataloader_SGD):\n",
    "        weight_SGD.append(model.state_dict()['fc1.weight'].item())\n",
    "        bias_SGD.append(model.state_dict()['fc1.bias'].item())\n",
    "        res = y - model(x)\n",
    "        loss = res.pow(2).mean()\n",
    "        optimizer.zero_grad() #this is essentially  with torch.no_grad():\n",
    "\n",
    "        loss.backward()\n",
    "        optimizer.step()\n",
    "                "
   ]
  },
  {
   "cell_type": "code",
   "execution_count": 19,
   "metadata": {},
   "outputs": [],
   "source": [
    "bias_SGD = np.array(bias_SGD)\n",
    "weight_SGD = np.array(weight_SGD)\n",
    "bias_SGD;"
   ]
  },
  {
   "cell_type": "markdown",
   "metadata": {},
   "source": [
    "# Plotting"
   ]
  },
  {
   "cell_type": "code",
   "execution_count": 20,
   "metadata": {},
   "outputs": [
    {
     "data": {
      "image/png": "[encoded data removed]",
      "text/plain": [
       "<Figure size 432x288 with 1 Axes>"
      ]
     },
     "metadata": {
      "needs_background": "light"
     },
     "output_type": "display_data"
    }
   ],
   "source": [
    "plt.plot(weight_SGD,bias_SGD,'r+',label= r\"Stochastic gradient descent\")\n",
    "plt.scatter(weight_GD,bias_GD, zorder=1,label= r\"Gradient descent\")\n",
    "plt.ylabel(r\"$\\hat{\\beta}$\")\n",
    "plt.xlabel(r\"$\\hat{\\alpha}$\")\n",
    "plt.axhline(b_hat_ols,linewidth=1, color='k' )\n",
    "plt.axvline(a_hat_ols,linewidth=1, color='k')\n",
    "plt.legend(loc='best')\n",
    "plt.show()"
   ]
  },
  {
   "cell_type": "markdown",
   "metadata": {},
   "source": [
    "# Plotting a_hat"
   ]
  },
  {
   "cell_type": "code",
   "execution_count": 21,
   "metadata": {},
   "outputs": [
    {
     "data": {
      "image/png": "[encoded data removed]",
      "text/plain": [
       "<Figure size 432x288 with 1 Axes>"
      ]
     },
     "metadata": {
      "needs_background": "light"
     },
     "output_type": "display_data"
    }
   ],
   "source": [
    "plt.plot(bias_SGD,label= r\"Stochastic gradient descent\")\n",
    "plt.axhline(a_hat_ols.item(),linewidth=1, color='r', label = r\"$\\hat{a}_{OLS}$\" )\n",
    "plt.xlabel(r\"Optimization Step\", fontsize = 14)\n",
    "plt.ylabel(r\"$\\hat{a}$\", fontsize = 14)\n",
    "plt.legend(loc='best')\n",
    "plt.show()\n"
   ]
  },
  {
   "cell_type": "markdown",
   "metadata": {},
   "source": [
    "# Plotting b_hat"
   ]
  },
  {
   "cell_type": "code",
   "execution_count": 22,
   "metadata": {},
   "outputs": [
    {
     "data": {
      "image/png": "[encoded data removed]",
      "text/plain": [
       "<Figure size 432x288 with 1 Axes>"
      ]
     },
     "metadata": {
      "needs_background": "light"
     },
     "output_type": "display_data"
    }
   ],
   "source": [
    "plt.plot(weight_SGD,label= r\"Stochastic gradient descent\")\n",
    "plt.axhline(b_hat_ols.item(),linewidth=1, color='r', label = r\"$\\hat{b}_{OLS}$\")\n",
    "plt.ylabel(r\"$\\hat{b}$\", fontsize = 12)\n",
    "plt.xlabel(r\"Optimization Step\", fontsize = 12)\n",
    "plt.legend(loc='lower right')\n",
    "plt.show()"
   ]
  },
  {
   "cell_type": "markdown",
   "metadata": {},
   "source": [
    "# Plotting the gif "
   ]
  },
  {
   "cell_type": "code",
   "execution_count": 23,
   "metadata": {},
   "outputs": [],
   "source": [
    "import os\n",
    "import numpy as np\n",
    "import matplotlib.pyplot as plt\n",
    "import imageio"
   ]
  },
  {
   "cell_type": "code",
   "execution_count": 24,
   "metadata": {},
   "outputs": [],
   "source": [
    "filenames = []\n",
    "for i in range(len(weight_SGD)):\n",
    "    # plot the line chart\n",
    "    plt.plot(weight_SGD[:i],label= r\"Stochastic gradient descent\" )\n",
    "    plt.axhline(b_hat_ols.item(),linewidth=1, color='r', label = r\"$\\hat{b}_{OLS}$\")\n",
    "    plt.ylabel(r\"$\\hat{b}$\", fontsize = 12)\n",
    "    plt.xlabel(r\"Optimization Step\", fontsize = 12)\n",
    "    plt.legend(loc='lower right')\n",
    "    plt.ylim(-2.0,1.2)\n",
    "    plt.xlim(0,320)\n",
    "    # create file name and append it to a list\n",
    "    filename = f'{i}.png'\n",
    "    filenames.append(filename)\n",
    "    \n",
    "    # save frame\n",
    "    plt.savefig(filename)\n",
    "    plt.close()# build gif\n",
    "with imageio.get_writer('SGD_LOS_b.gif', mode='I') as writer:\n",
    "    for filename in filenames:\n",
    "        image = imageio.imread(filename)\n",
    "        writer.append_data(image)\n",
    "        \n",
    "# Remove files\n",
    "for filename in set(filenames):\n",
    "    os.remove(filename)"
   ]
  },
  {
   "cell_type": "code",
   "execution_count": null,
   "metadata": {},
   "outputs": [],
   "source": [
    "filenames = []\n",
    "for i in range(len(bias_SGD)):\n",
    "    # plot the line chart\n",
    "    plt.plot(bias_SGD[:i],label= r\"Stochastic gradient descent\" )\n",
    "    plt.axhline(b_hat_ols.item(),linewidth=1, color='r', label = r\"$\\hat{a}_{OLS}$\")\n",
    "    plt.ylabel(r\"$\\hat{a}$\", fontsize = 12)\n",
    "    plt.xlabel(r\"Optimization Step\", fontsize = 12)\n",
    "    plt.legend(loc='lower right')\n",
    "    plt.ylim(0.5,3.0)\n",
    "    plt.xlim(0,320)\n",
    "    # create file name and append it to a list\n",
    "    filename = f'{i}.png'\n",
    "    filenames.append(filename)\n",
    "    \n",
    "    # save frame\n",
    "    plt.savefig(filename)\n",
    "    plt.close()# build gif\n",
    "with imageio.get_writer('SGD_LOS_a.gif', mode='I') as writer:\n",
    "    for filename in filenames:\n",
    "        image = imageio.imread(filename)\n",
    "        writer.append_data(image)\n",
    "        \n",
    "# Remove files\n",
    "for filename in set(filenames):\n",
    "    os.remove(filename)"
   ]
  }
 ],
 "metadata": {
  "kernelspec": {
   "display_name": "Python 3",
   "language": "python",
   "name": "python3"
  },
  "language_info": {
   "codemirror_mode": {
    "name": "ipython",
    "version": 3
   },
   "file_extension": ".py",
   "mimetype": "text/x-python",
   "name": "python",
   "nbconvert_exporter": "python",
   "pygments_lexer": "ipython3",
   "version": "3.8.8"
  }
 },
 "nbformat": 4,
 "nbformat_minor": 4
}
