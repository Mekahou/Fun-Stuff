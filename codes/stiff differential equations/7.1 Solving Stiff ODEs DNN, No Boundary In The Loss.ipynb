{
 "cells": [
  {
   "cell_type": "markdown",
   "id": "40fd7acf",
   "metadata": {},
   "source": [
    "# Solving a stiff differential equation with a deep neural net\n",
    "Written by [Mahdi E Kahou](https://sites.google.com/site/mahdiebrahimikahou/about-me)"
   ]
  },
  {
   "cell_type": "markdown",
   "id": "4fa8f83d",
   "metadata": {},
   "source": [
    "## The problem"
   ]
  },
  {
   "cell_type": "markdown",
   "id": "bffc27ca",
   "metadata": {},
   "source": [
    "Consider the following first order differential equation:\n",
    "\n",
    "$\\frac{d y(t)}{dt} = g(y,t) = -21 y(t)+ e^{-t}$\n",
    "\n",
    "$y(0) = 0.0$\n",
    "\n",
    "The example is taken from these [notes](https://ece.uwaterloo.ca/~dwharder/NumericalAnalysis/14IVPs/stiff/complete.html). Note that this problem has an analytical solution of the form  $y(t) = A e^{-st}+ y_p(t)$, where $y_p(t)$ is the particular solution. So let's solve it, after a bit of algebra we get:\n",
    "\n",
    "$y(t) = 0.05 \\big( e^{-t} - e^{-21 t}\\big)$"
   ]
  },
  {
   "cell_type": "markdown",
   "id": "c3a5b35e",
   "metadata": {},
   "source": [
    "### Let's plot the theoretical solution  "
   ]
  },
  {
   "cell_type": "code",
   "execution_count": 1,
   "id": "425ab25f",
   "metadata": {},
   "outputs": [],
   "source": [
    "import numpy as np\n",
    "import torch\n",
    "import torch.nn as nn\n",
    "import torch.nn.functional as F\n",
    "import matplotlib.pyplot as plt\n",
    "from matplotlib import cm"
   ]
  },
  {
   "cell_type": "code",
   "execution_count": 2,
   "id": "f2976781",
   "metadata": {},
   "outputs": [],
   "source": [
    "fontsize= 18\n",
    "ticksize = 14\n",
    "figsize = (7, 4.5)\n",
    "params = {\"text.usetex\": True,\n",
    "    'font.family':'serif',\n",
    "    \"figure.figsize\":figsize, \n",
    "    'figure.dpi': 80,\n",
    "    'figure.edgecolor': 'k',\n",
    "    'font.size': fontsize, \n",
    "    'axes.labelsize': fontsize,\n",
    "    'axes.titlesize': fontsize,\n",
    "    'xtick.labelsize': ticksize,\n",
    "    'ytick.labelsize': ticksize\n",
    "}\n",
    "plt.rcParams.update(params) "
   ]
  },
  {
   "cell_type": "code",
   "execution_count": 3,
   "id": "b6fbaa51",
   "metadata": {},
   "outputs": [],
   "source": [
    "class params:\n",
    "    def __init__(self,\n",
    "                 α = -21,\n",
    "                 β = -1.0,\n",
    "                 y_0 = 0.0,\n",
    "                 T = 4,\n",
    "                ):\n",
    "        self.α = α\n",
    "        self.β = β\n",
    "        self.y_0 = y_0\n",
    "        self.T = T"
   ]
  },
  {
   "cell_type": "code",
   "execution_count": 4,
   "id": "e92bd02d",
   "metadata": {},
   "outputs": [],
   "source": [
    "def theory_sol(time):\n",
    "    α = params().α\n",
    "    β = params().β\n",
    "    return 0.05*(-torch.exp(α*time)+ torch.exp(β*time))"
   ]
  },
  {
   "cell_type": "code",
   "execution_count": 5,
   "id": "61e5d2b5",
   "metadata": {},
   "outputs": [],
   "source": [
    "time_mesh = torch.arange(0.0, params().T , 0.005)\n",
    "dim = time_mesh.shape[0]\n",
    "time_mesh = time_mesh.reshape([dim,1])\n",
    "y_theory = theory_sol(time_mesh)"
   ]
  },
  {
   "cell_type": "code",
   "execution_count": 6,
   "id": "2f53e3ea",
   "metadata": {},
   "outputs": [
    {
     "data": {
      "image/png": "[encoded data removed]",
      "text/plain": [
       "<Figure size 560x360 with 1 Axes>"
      ]
     },
     "metadata": {
      "needs_background": "light"
     },
     "output_type": "display_data"
    }
   ],
   "source": [
    "plt.plot(time_mesh,y_theory,label= r\"Analytical Solution\")\n",
    "plt.xlabel(r\"Time(t)\")\n",
    "plt.tight_layout()\n",
    "plt.legend(loc='best')\n",
    "plt.show()\n"
   ]
  },
  {
   "cell_type": "markdown",
   "id": "9bf5a62e",
   "metadata": {},
   "source": [
    "## Solving the problem with a DNN"
   ]
  },
  {
   "cell_type": "code",
   "execution_count": 7,
   "id": "fe0a84e6",
   "metadata": {},
   "outputs": [],
   "source": [
    "from torch.utils.data import Dataset, DataLoader"
   ]
  },
  {
   "cell_type": "code",
   "execution_count": 8,
   "id": "64f890a5",
   "metadata": {},
   "outputs": [],
   "source": [
    "class Collocation_data:\n",
    "    def __init__(self,\n",
    "                 mesh_step = 0.04,\n",
    "                 batch_size = 8,\n",
    "                ):\n",
    "        \n",
    "        \n",
    "        self.T = params().T\n",
    "        self.mesh_step = mesh_step\n",
    "        self.batch_size = batch_size\n",
    "    \n",
    "        self.time_range = torch.arange(start = 0.0, end = self.T , step = self.mesh_step)\n",
    "        dim = self.time_range.shape[0]\n",
    "        self.time = self.time_range.reshape([dim,1])"
   ]
  },
  {
   "cell_type": "markdown",
   "id": "bcbb350d",
   "metadata": {},
   "source": [
    "### Writing the dataloader"
   ]
  },
  {
   "cell_type": "code",
   "execution_count": 9,
   "id": "3373adc6",
   "metadata": {},
   "outputs": [],
   "source": [
    "class Data_label(Dataset):\n",
    "    \n",
    "    def __init__(self,data):\n",
    "        self.data = data\n",
    "        self.time = self.data[:,[0]]\n",
    "        self.n_samples = self.data.shape[0]\n",
    "    \n",
    "    def __getitem__(self,index):\n",
    "        #first element is time, second element is y\n",
    "            return self.time[index]\n",
    "        \n",
    "    def __len__(self):\n",
    "        return self.n_samples"
   ]
  },
  {
   "cell_type": "code",
   "execution_count": 10,
   "id": "5efea795",
   "metadata": {},
   "outputs": [],
   "source": [
    "train_data = Collocation_data().time\n",
    "train_labeled = Data_label(train_data)\n",
    "batch_len = Collocation_data().batch_size\n",
    "train = DataLoader(dataset = train_labeled, batch_size = batch_len , shuffle = True )"
   ]
  },
  {
   "cell_type": "code",
   "execution_count": 11,
   "id": "11cc6638",
   "metadata": {},
   "outputs": [
    {
     "data": {
      "text/plain": [
       "0.0001"
      ]
     },
     "execution_count": 11,
     "metadata": {},
     "output_type": "execute_result"
    }
   ],
   "source": [
    "epsilon = 1e-8\n",
    "np.sqrt(epsilon)"
   ]
  },
  {
   "cell_type": "markdown",
   "id": "570b6ffb",
   "metadata": {},
   "source": [
    "Here I am going to use an old trick introduced by [Lagaris, Likas, and Fotiadis](https://arxiv.org/pdf/physics/9705023.pdf), equation 11. The trick is essentially representing the solution by :\n",
    "\n",
    "$y(t) = y_0 + t\\tilde{y}(t)$\n",
    "\n",
    "Note that:\n",
    "\n",
    "(1) $y(0) = y_0$\n",
    "\n",
    "(2) $\\tilde{y}$ is going to be approximated by a neural net"
   ]
  },
  {
   "cell_type": "markdown",
   "id": "d963ebff",
   "metadata": {},
   "source": [
    "### Setting up the neuran net and some useful functions"
   ]
  },
  {
   "cell_type": "code",
   "execution_count": 12,
   "id": "5d64ea5f",
   "metadata": {},
   "outputs": [],
   "source": [
    "def y(model,t):\n",
    "    y_0 = params().y_0\n",
    "    return y_0+t*model(t)"
   ]
  },
  {
   "cell_type": "code",
   "execution_count": 13,
   "id": "9360d6cb",
   "metadata": {},
   "outputs": [],
   "source": [
    "def derivative_forward(model,t): #forward differencing: dy/t\n",
    "    sqrt_eps = np.sqrt(epsilon)\n",
    "    return (y(model,t+sqrt_eps)-y(model,t))/sqrt_eps"
   ]
  },
  {
   "cell_type": "code",
   "execution_count": 14,
   "id": "5fda529c",
   "metadata": {},
   "outputs": [],
   "source": [
    "def derivative_back(model,t): #backward differencing : dy/dt\n",
    "    sqrt_eps = np.sqrt(epsilon)\n",
    "    return (y(model,t)-y(model,t-sqrt_eps))/sqrt_eps\n"
   ]
  },
  {
   "cell_type": "code",
   "execution_count": 15,
   "id": "0a47260b",
   "metadata": {},
   "outputs": [],
   "source": [
    "def derivative_center(model,t): #centered differencing : This sucks\n",
    "    sqrt_eps = np.sqrt(epsilon)\n",
    "    return (y(model,t+sqrt_eps)-y(model,t-sqrt_eps))/2*sqrt_eps\n"
   ]
  },
  {
   "cell_type": "code",
   "execution_count": 16,
   "id": "8deb24a2",
   "metadata": {},
   "outputs": [],
   "source": [
    "def f(model,t): # f(y,t)\n",
    "    α = params().α\n",
    "    β = params().β\n",
    "    dfdt = α * y(model,t) + torch.exp(β*t)\n",
    "    return dfdt"
   ]
  },
  {
   "cell_type": "code",
   "execution_count": 17,
   "id": "23efe35d",
   "metadata": {},
   "outputs": [],
   "source": [
    "def get_lr(optimizer):\n",
    "    for param_group in optimizer.param_groups:\n",
    "        return param_group['lr']"
   ]
  },
  {
   "cell_type": "markdown",
   "id": "a0d02780",
   "metadata": {},
   "source": [
    "### Defining the neural network"
   ]
  },
  {
   "cell_type": "code",
   "execution_count": 18,
   "id": "e6f02b28",
   "metadata": {},
   "outputs": [],
   "source": [
    "class NN(nn.Module):\n",
    "    def __init__(self, \n",
    "                 dim_hidden = 128,\n",
    "                layers = 4,\n",
    "                hidden_bias = True):\n",
    "        super().__init__()\n",
    "        self.dim_hidden= dim_hidden\n",
    "        self.layers = layers\n",
    "        self.hidden_bias = hidden_bias\n",
    "        \n",
    "        torch.manual_seed(123)\n",
    "        module = []\n",
    "        module.append(nn.Linear(1,self.dim_hidden, bias = self.hidden_bias))\n",
    "        module.append(nn.Tanh())\n",
    "        \n",
    "        for i in range(self.layers-1):\n",
    "            module.append(nn.Linear(self.dim_hidden,self.dim_hidden, bias = self.hidden_bias))\n",
    "            module.append(nn.Tanh())  \n",
    "            \n",
    "        module.append(nn.Linear(self.dim_hidden,1))\n",
    "        module.append(nn.Softplus(beta = 1.0))\n",
    "        \n",
    "        self.y = nn.Sequential(*module)\n",
    "\n",
    "\n",
    "    def forward(self, x):\n",
    "        out = self.y(x)\n",
    "        return  out"
   ]
  },
  {
   "cell_type": "markdown",
   "id": "cc3ac958",
   "metadata": {},
   "source": [
    "### Training "
   ]
  },
  {
   "cell_type": "code",
   "execution_count": 19,
   "id": "172b1a82",
   "metadata": {},
   "outputs": [],
   "source": [
    "model= NN()\n",
    "learning_rate = 1e-3\n",
    "optimizer = torch.optim.Adam(model.parameters(), lr=learning_rate)\n",
    "scheduler = torch.optim.lr_scheduler.StepLR(optimizer, step_size=100, gamma=0.8)"
   ]
  },
  {
   "cell_type": "code",
   "execution_count": 20,
   "id": "c20c5758",
   "metadata": {},
   "outputs": [],
   "source": [
    "num_epochs = 2000"
   ]
  },
  {
   "cell_type": "code",
   "execution_count": 21,
   "id": "377f536f",
   "metadata": {},
   "outputs": [
    {
     "name": "stdout",
     "output_type": "stream",
     "text": [
      "epoch , loss , lr_rate\n",
      "0 , 4.84e-01 , 1.00e-03\n",
      "100 , 6.04e-02 , 8.00e-04\n",
      "200 , 1.41e-02 , 6.40e-04\n",
      "300 , 5.47e-03 , 5.12e-04\n",
      "400 , 7.01e-03 , 4.10e-04\n",
      "500 , 2.49e-03 , 3.28e-04\n",
      "600 , 8.94e-05 , 2.62e-04\n",
      "700 , 2.30e-04 , 2.10e-04\n",
      "800 , 3.74e-04 , 1.68e-04\n",
      "900 , 1.28e-03 , 1.34e-04\n",
      "1000 , 4.54e-04 , 1.07e-04\n",
      "1100 , 9.36e-05 , 8.59e-05\n",
      "1200 , 1.42e-05 , 6.87e-05\n",
      "1300 , 1.26e-05 , 5.50e-05\n",
      "1400 , 7.26e-06 , 4.40e-05\n",
      "1500 , 8.08e-06 , 3.52e-05\n",
      "1600 , 8.39e-06 , 2.81e-05\n",
      "1700 , 1.41e-06 , 2.25e-05\n",
      "1800 , 1.62e-05 , 1.80e-05\n",
      "1900 , 2.61e-06 , 1.44e-05\n"
     ]
    }
   ],
   "source": [
    "for epoch in range(num_epochs):\n",
    "    for i, time in enumerate(train):\n",
    "        res =  derivative_back(model,time) - f(model,time)\n",
    "        \n",
    "        loss = res.pow(2).mean()\n",
    "                \n",
    "        optimizer.zero_grad()\n",
    "        loss.backward()\n",
    "        \n",
    "        optimizer.step()\n",
    "    scheduler.step()\n",
    "    if epoch == 0:\n",
    "         print('epoch' , ',' , 'loss' , ',' , 'lr_rate')\n",
    "    if epoch % 100 == 0:\n",
    "          print(epoch,',',\"{:.2e}\".format(loss.item()),',', \"{:.2e}\".format(get_lr(optimizer)) )  \n",
    "        "
   ]
  },
  {
   "cell_type": "code",
   "execution_count": 22,
   "id": "c01050f2",
   "metadata": {},
   "outputs": [
    {
     "data": {
      "text/plain": [
       "NN(\n",
       "  (y): Sequential(\n",
       "    (0): Linear(in_features=1, out_features=128, bias=True)\n",
       "    (1): Tanh()\n",
       "    (2): Linear(in_features=128, out_features=128, bias=True)\n",
       "    (3): Tanh()\n",
       "    (4): Linear(in_features=128, out_features=128, bias=True)\n",
       "    (5): Tanh()\n",
       "    (6): Linear(in_features=128, out_features=128, bias=True)\n",
       "    (7): Tanh()\n",
       "    (8): Linear(in_features=128, out_features=1, bias=True)\n",
       "    (9): Softplus(beta=1.0, threshold=20)\n",
       "  )\n",
       ")"
      ]
     },
     "execution_count": 22,
     "metadata": {},
     "output_type": "execute_result"
    }
   ],
   "source": [
    "model.eval()"
   ]
  },
  {
   "cell_type": "code",
   "execution_count": 23,
   "id": "ca2893bb",
   "metadata": {},
   "outputs": [],
   "source": [
    "time_tensor = Collocation_data().time\n",
    "y_approx = y(model,time_tensor).detach()"
   ]
  },
  {
   "cell_type": "code",
   "execution_count": 24,
   "id": "28edd056",
   "metadata": {},
   "outputs": [
    {
     "data": {
      "image/png": "[encoded data removed]",
      "text/plain": [
       "<Figure size 560x360 with 1 Axes>"
      ]
     },
     "metadata": {
      "needs_background": "light"
     },
     "output_type": "display_data"
    }
   ],
   "source": [
    "plt.plot(time_tensor, y_approx, color = 'r' ,label= r\"Approximate Solution\")\n",
    "plt.plot(time_mesh,y_theory, \"--\", label= r\"Analytical Solution\")\n",
    "#plt.plot(time_1,y_1, label = r\"ODEINT Solution\")\n",
    "plt.title(r\"$\\dot{y} = -21y+\\exp(-t)$\")\n",
    "\n",
    "plt.xlabel(r\"Time(t)\")\n",
    "plt.tight_layout()\n",
    "plt.legend(loc='best')\n",
    "plt.show()"
   ]
  },
  {
   "cell_type": "markdown",
   "id": "8a696a8c",
   "metadata": {},
   "source": [
    "## Plotting the GIF:"
   ]
  },
  {
   "cell_type": "code",
   "execution_count": 35,
   "id": "3bd8eaa3",
   "metadata": {},
   "outputs": [],
   "source": [
    "model= NN()\n",
    "learning_rate = 1e-3\n",
    "optimizer = torch.optim.Adam(model.parameters(), lr=learning_rate)\n",
    "scheduler = torch.optim.lr_scheduler.StepLR(optimizer, step_size=100, gamma=0.8)"
   ]
  },
  {
   "cell_type": "code",
   "execution_count": 36,
   "id": "05c0b3a1",
   "metadata": {},
   "outputs": [],
   "source": [
    "gif_results = torch.zeros([Collocation_data().time.shape[0],220])\n",
    "num_epochs = 2200"
   ]
  },
  {
   "cell_type": "code",
   "execution_count": 37,
   "id": "90613925",
   "metadata": {},
   "outputs": [
    {
     "name": "stdout",
     "output_type": "stream",
     "text": [
      "epoch , loss , lr_rate\n",
      "0 , 4.84e-01 , 1.00e-03\n",
      "100 , 6.04e-02 , 8.00e-04\n",
      "200 , 1.41e-02 , 6.40e-04\n",
      "300 , 5.47e-03 , 5.12e-04\n",
      "400 , 7.01e-03 , 4.10e-04\n",
      "500 , 2.49e-03 , 3.28e-04\n",
      "600 , 8.94e-05 , 2.62e-04\n",
      "700 , 2.30e-04 , 2.10e-04\n",
      "800 , 3.74e-04 , 1.68e-04\n",
      "900 , 1.28e-03 , 1.34e-04\n",
      "1000 , 4.54e-04 , 1.07e-04\n",
      "1100 , 9.36e-05 , 8.59e-05\n",
      "1200 , 1.42e-05 , 6.87e-05\n",
      "1300 , 1.26e-05 , 5.50e-05\n",
      "1400 , 7.26e-06 , 4.40e-05\n",
      "1500 , 8.08e-06 , 3.52e-05\n",
      "1600 , 8.39e-06 , 2.81e-05\n",
      "1700 , 1.41e-06 , 2.25e-05\n",
      "1800 , 1.62e-05 , 1.80e-05\n",
      "1900 , 2.61e-06 , 1.44e-05\n",
      "2000 , 5.36e-06 , 1.15e-05\n",
      "2100 , 5.51e-06 , 9.22e-06\n"
     ]
    }
   ],
   "source": [
    "j = 0\n",
    "for epoch in range(num_epochs):\n",
    "    if epoch % 10 ==0:\n",
    "        gif_results[:,j] = y(model,time_tensor).detach().squeeze()\n",
    "        j = j+1\n",
    "    for i, time in enumerate(train):\n",
    "        res =  derivative_back(model,time) - f(model,time)\n",
    "        \n",
    "        loss = res.pow(2).mean()\n",
    "                \n",
    "        optimizer.zero_grad()\n",
    "        loss.backward()\n",
    "        \n",
    "        optimizer.step()\n",
    "    scheduler.step()\n",
    "    if epoch == 0:\n",
    "         print('epoch' , ',' , 'loss' , ',' , 'lr_rate')\n",
    "    if epoch % 100 == 0:\n",
    "          print(epoch,',',\"{:.2e}\".format(loss.item()),',', \"{:.2e}\".format(get_lr(optimizer)) )  \n",
    "        "
   ]
  },
  {
   "cell_type": "code",
   "execution_count": 38,
   "id": "f21d3c51",
   "metadata": {},
   "outputs": [],
   "source": [
    "import os\n",
    "import matplotlib.pyplot as plt\n",
    "import imageio"
   ]
  },
  {
   "cell_type": "code",
   "execution_count": 39,
   "id": "b03d73d5",
   "metadata": {},
   "outputs": [],
   "source": [
    "filenames = []\n",
    "for i in range(gif_results.shape[1]):\n",
    "    # plot the line chart\n",
    "    plt.plot(time_tensor,gif_results[:,i], color= 'b',label= r\"Approximate Solution\" )\n",
    "    plt.plot(time_mesh,y_theory, \"--\", color= 'r', label= r\"Analytical Solution\")\n",
    "    plt.title(r\"$\\dot{y} = -21y+\\exp(-t)$\")\n",
    "    plt.ylabel(r\"$y(t)$\")\n",
    "    plt.xlabel(r\"Time(t)\")\n",
    "    plt.legend(loc='upper right')\n",
    "    plt.ylim(0.0,0.06)\n",
    "    plt.xlim(0,4)\n",
    "    plt.tight_layout()\n",
    "    # create file name and append it to a list\n",
    "    filename = f'{i}.png'\n",
    "    filenames.append(filename)\n",
    "    \n",
    "    # save frame\n",
    "    plt.savefig(filename)\n",
    "    plt.close()# build gif\n",
    "with imageio.get_writer('stiff.gif', mode='I') as writer:\n",
    "    for filename in filenames:\n",
    "        image = imageio.imread(filename)\n",
    "        writer.append_data(image)\n",
    "        \n",
    "# Remove files\n",
    "for filename in set(filenames):\n",
    "    os.remove(filename)"
   ]
  },
  {
   "cell_type": "code",
   "execution_count": null,
   "id": "c1a640a3",
   "metadata": {},
   "outputs": [],
   "source": []
  }
 ],
 "metadata": {
  "kernelspec": {
   "display_name": "Python 3",
   "language": "python",
   "name": "python3"
  },
  "language_info": {
   "codemirror_mode": {
    "name": "ipython",
    "version": 3
   },
   "file_extension": ".py",
   "mimetype": "text/x-python",
   "name": "python",
   "nbconvert_exporter": "python",
   "pygments_lexer": "ipython3",
   "version": "3.8.8"
  }
 },
 "nbformat": 4,
 "nbformat_minor": 5
}
