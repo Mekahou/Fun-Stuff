{
 "cells": [
  {
   "cell_type": "markdown",
   "id": "a22fd453",
   "metadata": {},
   "source": [
    "# Using neural nets to solve an optimal control problem: A simple example\n",
    "\n",
    "#### by [Mahdi Ebrahimi Kahou](https://sites.google.com/site/mahdiebrahimikahou/)\n",
    "\n",
    "Here I create an animation that shows the time evolution of the neural network during the optimization.\n",
    "\n",
    "If you want a full description of the problem and algorithm see: [The other file](https://github.com/Mekahou/Fun-Stuff/edit/main/codes/linear%20quadratic%20DP%20DNN/3.%20LQ_DP_DNN_Training_Main.ipynb)"
   ]
  },
  {
   "cell_type": "code",
   "execution_count": 1,
   "id": "33a9b81c",
   "metadata": {},
   "outputs": [],
   "source": [
    "import quantecon as qe\n",
    "import quantecon.lqcontrol as LQ\n",
    "import numpy as np\n",
    "\n",
    "import matplotlib.pyplot as plt\n"
   ]
  },
  {
   "cell_type": "code",
   "execution_count": 2,
   "id": "a6f81521",
   "metadata": {},
   "outputs": [],
   "source": [
    "class Exact_sol:\n",
    "    def __init__(self,\n",
    "                 beta = 0.95,\n",
    "                 alpha_0 = 1.0,\n",
    "                 alpha_1 = 2.0,\n",
    "                 gamma = 90.0,\n",
    "                 h_0 =  0.03,\n",
    "                 h_1 = 0.94,\n",
    "                 time = 63,\n",
    "                 y_0 = 0.1,\n",
    "                 Y_0 = 0.2\n",
    "                ):\n",
    "        \n",
    "        self.beta = beta\n",
    "        self.alpha_0 = alpha_0\n",
    "        self.alpha_1 = alpha_1\n",
    "        self.gamma = gamma\n",
    "        self.h_0 = h_0\n",
    "        self.h_1= h_1\n",
    "        self.time = time\n",
    "        self.y_0 = y_0\n",
    "        self.Y_0 = Y_0\n",
    "        \n",
    "        self.R = np.matrix([[0.0,-self.alpha_0/2 , 0.0],[-self.alpha_0/2, 0.0, self.alpha_1/2],[0.0,self.alpha_1/2, 0.0]])\n",
    "        self.Q = self.gamma/2\n",
    "        self.A = np.matrix([[1.0,0.0,0.0],[0.0,1.0,0.0],[self.h_0,0.0, self.h_1]])\n",
    "        self.B = np.matrix([[0.0],[1.0],[0.0]])\n",
    "        \n",
    "        self.lq = LQ.LQ(self.Q, self.R, self.A, self.B, beta=self.beta)\n",
    "        self.P, self.F, self.d = self.lq.stationary_values()\n",
    "        \n",
    "        self.x_0 = np.matrix([[1.0],[self.y_0],[self.Y_0]])\n",
    "        self.dynamics = self.lq.compute_sequence(self.x_0,self.time)\n",
    "        \n",
    "        self.ones = self.dynamics[0][0].reshape([self.time+1,1])\n",
    "        self.y_t = self.dynamics[0][1].reshape([self.time+1,1])\n",
    "        self.Y_t = self.dynamics[0][2].reshape([self.time+1,1])\n",
    "        \n",
    "        self.x_t = np.concatenate((self.ones,self.y_t,self.Y_t), axis=1).T\n",
    "        \n",
    "        self.u_t = -np.dot(self.F,self.x_t).T\n",
    "        "
   ]
  },
  {
   "cell_type": "code",
   "execution_count": 3,
   "id": "f0f6f934",
   "metadata": {},
   "outputs": [],
   "source": [
    "import torch\n",
    "import torch.nn as nn\n",
    "import torch.nn.functional as F"
   ]
  },
  {
   "cell_type": "code",
   "execution_count": 4,
   "id": "4e41e1e4",
   "metadata": {},
   "outputs": [],
   "source": [
    "class NN(nn.Module):\n",
    "    def __init__(self, \n",
    "                 dim_hidden = 128,\n",
    "                layers = 4,\n",
    "                hidden_bias = True):\n",
    "        super().__init__()\n",
    "        self.dim_hidden= dim_hidden\n",
    "        self.layers = layers\n",
    "        self.hidden_bias = hidden_bias\n",
    "        \n",
    "        torch.manual_seed(1)\n",
    "        module = []\n",
    "        module.append(nn.Linear(1,self.dim_hidden, bias = self.hidden_bias))\n",
    "        module.append(nn.ReLU())\n",
    "        \n",
    "        for i in range(self.layers-1):\n",
    "            module.append(nn.Linear(self.dim_hidden,self.dim_hidden, bias = self.hidden_bias))\n",
    "            module.append(nn.ReLU())  \n",
    "            \n",
    "        module.append(nn.Linear(self.dim_hidden,1))\n",
    "        \n",
    "        self.u = nn.Sequential(*module)\n",
    "\n",
    "\n",
    "    def forward(self, x):\n",
    "        u_out = self.u(x)\n",
    "        return  u_out"
   ]
  },
  {
   "cell_type": "code",
   "execution_count": 5,
   "id": "9846f93b",
   "metadata": {},
   "outputs": [],
   "source": [
    "class Data:\n",
    "    def __init__(self,\n",
    "                 beta = 0.95,\n",
    "                 alpha_0 = 1.0,\n",
    "                 alpha_1 = 2.0,\n",
    "                 gamma = 90.0,\n",
    "                 h_0 =  0.03,\n",
    "                 h_1 = 0.94,\n",
    "                 time = 64,\n",
    "                 Y_0 = 0.2,\n",
    "                 batch_size = 4\n",
    "                ):\n",
    "        self.beta = beta\n",
    "        self.alpha_0 = alpha_0\n",
    "        self.alpha_1 = alpha_1\n",
    "        self.gamma = gamma\n",
    "        self.h_0 = h_0\n",
    "        self.h_1= h_1\n",
    "        self.time = time\n",
    "        self.Y_0 = Y_0\n",
    "        self.batch_size = batch_size\n",
    "        \n",
    "        self.Y_t = torch.zeros([self.time])\n",
    "        self.Y_t[0] = self.Y_0\n",
    "        for t in range(self.time-1):\n",
    "            self.Y_t[t+1] = self.h_0 + self.h_1*self.Y_t[t]\n",
    "            \n",
    "        self.Y_prime_t = self.h_0 + self.h_1*self.Y_t\n",
    "        \n",
    "        self.train_data = torch.stack((self.Y_t,self.Y_prime_t),1)\n"
   ]
  },
  {
   "cell_type": "code",
   "execution_count": 6,
   "id": "3e826f07",
   "metadata": {},
   "outputs": [],
   "source": [
    "from torch.utils.data import Dataset, DataLoader"
   ]
  },
  {
   "cell_type": "code",
   "execution_count": 7,
   "id": "d23e0e3b",
   "metadata": {},
   "outputs": [],
   "source": [
    "class Data_loader(Dataset):\n",
    "    \n",
    "    def __init__(self,data):\n",
    "        self.data = data\n",
    "        self.Y = self.data[:,[0]]\n",
    "        self.Y_prime = self.data[:,1:]\n",
    "        self.n_samples = self.data.shape[0]\n",
    "\n",
    "    def __getitem__(self,index):\n",
    "            return self.Y[index], self.Y_prime[index] # order: Y first, then Y_prime \n",
    "        \n",
    "    def __len__(self):\n",
    "        return self.n_samples"
   ]
  },
  {
   "cell_type": "code",
   "execution_count": 8,
   "id": "dc2c142b",
   "metadata": {},
   "outputs": [],
   "source": [
    "data_set = Data().train_data\n",
    "data_label = Data_loader(data = data_set)\n",
    "batch_size = Data().batch_size\n",
    "train = DataLoader(dataset = data_label, batch_size = batch_size, shuffle = True)\n"
   ]
  },
  {
   "cell_type": "code",
   "execution_count": 9,
   "id": "be72f6c1",
   "metadata": {},
   "outputs": [],
   "source": [
    "α_0 = Data().alpha_0\n",
    "α_1 = Data().alpha_1\n",
    "γ = Data().gamma\n",
    "β = Data().beta"
   ]
  },
  {
   "cell_type": "code",
   "execution_count": 10,
   "id": "c0b3098d",
   "metadata": {},
   "outputs": [],
   "source": [
    "max_epochs = 50"
   ]
  },
  {
   "cell_type": "code",
   "execution_count": 11,
   "id": "8b44db7d",
   "metadata": {},
   "outputs": [],
   "source": [
    "u_hat = NN()\n",
    "learning_rate = 1e-2\n",
    "\n",
    "optimizer = torch.optim.Adam(u_hat.parameters(), lr=learning_rate, weight_decay=0.0)\n",
    "scheduler = torch.optim.lr_scheduler.StepLR(optimizer, step_size=100, gamma=0.5)\n",
    "#scheduler = torch.optim.lr_scheduler.ReduceLROnPlateau(optimizer, factor = 0.1, patience = 20, threshold = 0.0 , cooldown =  1 )"
   ]
  },
  {
   "cell_type": "code",
   "execution_count": 12,
   "id": "00663e22",
   "metadata": {},
   "outputs": [],
   "source": [
    "u_hat.eval()\n",
    "Y_t = Data().train_data[:,[0]]\n",
    "\n",
    "approx_sol = u_hat(Y_t).detach()\n",
    "\n",
    "exact_sol = Exact_sol().u_t"
   ]
  },
  {
   "cell_type": "code",
   "execution_count": 13,
   "id": "2bbeafb8",
   "metadata": {},
   "outputs": [
    {
     "data": {
      "image/png": "[encoded data removed]",
      "text/plain": [
       "<Figure size 432x288 with 1 Axes>"
      ]
     },
     "metadata": {
      "needs_background": "light"
     },
     "output_type": "display_data"
    }
   ],
   "source": [
    "plt.plot(exact_sol, \"--\", color='r', label= r\"Exact Solution\")\n",
    "plt.plot(approx_sol,label= r\"Approximate Solution\" )\n",
    "plt.ylabel(r\"$u$\")\n",
    "plt.xlabel(r\"Time(t)\")\n",
    "plt.tight_layout()\n",
    "plt.legend(loc='best')\n",
    "plt.show()"
   ]
  },
  {
   "cell_type": "code",
   "execution_count": 14,
   "id": "3b9081ae",
   "metadata": {},
   "outputs": [],
   "source": [
    "result = torch.zeros([Data().time,200]) #The evolution of the neural net during the optimization will be saved here\n",
    "i = 0\n",
    "Y_t = Data().train_data[:,[0]]"
   ]
  },
  {
   "cell_type": "code",
   "execution_count": 15,
   "id": "d957da94",
   "metadata": {},
   "outputs": [],
   "source": [
    "for epoch in range(max_epochs):\n",
    "    for index, (Y,Y_prime) in enumerate(train):\n",
    "        \n",
    "        euler_res = γ*u_hat(Y) - β*( γ*u_hat(Y_prime) + α_0 - α_1* Y_prime )\n",
    "        loss = euler_res.pow(2).mean()\n",
    "        if index % 5 == 0:\n",
    "            result[:,i] = u_hat(Y_t).detach().squeeze()\n",
    "            i = i+1\n",
    "             \n",
    "        optimizer.zero_grad()\n",
    "        \n",
    "        loss.backward()\n",
    "        \n",
    "        optimizer.step()\n",
    "    scheduler.step()\n",
    "    #if epoch % 1 == 0:\n",
    "    #    print(\"epoch:\",epoch, \",\",\"MSE Euler Residuals:\",\"{:.2e}\".format(loss.item()))    \n",
    "\n",
    "        "
   ]
  },
  {
   "cell_type": "code",
   "execution_count": 16,
   "id": "2706f295",
   "metadata": {},
   "outputs": [],
   "source": [
    "u_hat.eval()\n",
    "Y_t = Data().train_data[:,[0]]\n",
    "\n",
    "approx_sol = u_hat(Y_t).detach()\n",
    "\n",
    "exact_sol = Exact_sol().u_t"
   ]
  },
  {
   "cell_type": "code",
   "execution_count": 17,
   "id": "b1f34883",
   "metadata": {},
   "outputs": [
    {
     "data": {
      "image/png": "[encoded data removed]",
      "text/plain": [
       "<Figure size 432x288 with 1 Axes>"
      ]
     },
     "metadata": {
      "needs_background": "light"
     },
     "output_type": "display_data"
    }
   ],
   "source": [
    "plt.plot(exact_sol, \"--\", color='r', label= r\"Exact Solution\")\n",
    "plt.plot(approx_sol,label= r\"Approximate Solution\" )\n",
    "plt.ylabel(r\"$u$\")\n",
    "plt.xlabel(r\"Time(t)\")\n",
    "plt.tight_layout()\n",
    "plt.legend(loc='best')\n",
    "plt.show()"
   ]
  },
  {
   "cell_type": "markdown",
   "id": "c98dc434",
   "metadata": {},
   "source": [
    "### Creating the animation"
   ]
  },
  {
   "cell_type": "code",
   "execution_count": 18,
   "id": "cff09ca3",
   "metadata": {},
   "outputs": [],
   "source": [
    "import os\n",
    "import numpy as np\n",
    "import matplotlib.pyplot as plt\n",
    "import imageio"
   ]
  },
  {
   "cell_type": "code",
   "execution_count": 19,
   "id": "9fee6c5b",
   "metadata": {},
   "outputs": [],
   "source": [
    "fontsize= 16\n",
    "ticksize = 14\n",
    "figsize = (6, 3.5)\n",
    "params = {\"text.usetex\": True,\n",
    "    'font.family':'serif',\n",
    "    \"figure.figsize\":figsize, \n",
    "    'figure.dpi': 80,\n",
    "    'figure.edgecolor': 'k',\n",
    "    'font.size': fontsize, \n",
    "    'axes.labelsize': fontsize,\n",
    "    'axes.titlesize': fontsize,\n",
    "    'xtick.labelsize': ticksize,\n",
    "    'ytick.labelsize': ticksize\n",
    "}\n",
    "\n",
    "plt.rcParams.update(params)   "
   ]
  },
  {
   "cell_type": "code",
   "execution_count": 20,
   "id": "6cb16541",
   "metadata": {},
   "outputs": [],
   "source": [
    "filenames = []\n",
    "for i in range(result.shape[1]):\n",
    "    # plot the line chart\n",
    "    plt.rcParams.update(params)   \n",
    "    plt.plot(result[:,i],label= r\"Approximate Solution\" )\n",
    "    plt.plot(Exact_sol().u_t,\"--\",color='r', label = r\"Exact Solution\")\n",
    "    plt.ylabel(r\"$u(t)$\")\n",
    "    plt.xlabel(r\"Time(t)\")\n",
    "    plt.legend(loc='upper right')\n",
    "    plt.ylim(0.0,0.06)\n",
    "    plt.xlim(0,64)\n",
    "    plt.tight_layout()\n",
    "    # create file name and append it to a list\n",
    "    filename = f'{i}.png'\n",
    "    filenames.append(filename)\n",
    "    \n",
    "    # save frame\n",
    "    plt.savefig(filename)\n",
    "    plt.close()# build gif\n",
    "with imageio.get_writer('u_hat.gif', mode='I') as writer:\n",
    "    for filename in filenames:\n",
    "        image = imageio.imread(filename)\n",
    "        writer.append_data(image)\n",
    "        \n",
    "# Remove files\n",
    "for filename in set(filenames):\n",
    "    os.remove(filename)"
   ]
  },
  {
   "cell_type": "code",
   "execution_count": null,
   "id": "b31cf303",
   "metadata": {},
   "outputs": [],
   "source": []
  }
 ],
 "metadata": {
  "kernelspec": {
   "display_name": "Python 3",
   "language": "python",
   "name": "python3"
  },
  "language_info": {
   "codemirror_mode": {
    "name": "ipython",
    "version": 3
   },
   "file_extension": ".py",
   "mimetype": "text/x-python",
   "name": "python",
   "nbconvert_exporter": "python",
   "pygments_lexer": "ipython3",
   "version": "3.8.8"
  }
 },
 "nbformat": 4,
 "nbformat_minor": 5
}
