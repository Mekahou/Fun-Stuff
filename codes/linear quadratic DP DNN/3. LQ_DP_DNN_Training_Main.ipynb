{
 "cells": [
  {
   "cell_type": "markdown",
   "id": "1e41f590",
   "metadata": {},
   "source": [
    "# Using neural nets to solve an optimal control problem: A simple example\n",
    "#### by [Mahdi Ebrahimi Kahou](https://sites.google.com/site/mahdiebrahimikahou/)"
   ]
  },
  {
   "cell_type": "markdown",
   "id": "d254f63d",
   "metadata": {},
   "source": [
    "## The problem \n",
    "Consider the following problem (From Recursive Macroeconomic Theory by Lars Ljungqvist and Tom Sargent, 3rd edition, Exercise 5.11) \n",
    "\n",
    "Here I change the parameters (I like normalizing things)"
   ]
  },
  {
   "cell_type": "markdown",
   "id": "54940bce",
   "metadata": {},
   "source": [
    "A price-taking firm is trying to solve an investment problem with adjustment cost as follows:\n",
    "\n",
    "$\\max_{u_t}  \\sum_{t=0}^\\infty \\beta^t\\big[(\\alpha_0 - \\alpha_1 Y_t)y_t-\\frac{\\gamma}{2}u_t^2\\big]$\n",
    "\n",
    "$s.t.~ Y_{t+1} = h_0 + h_1 Y_t $\n",
    "\n",
    "$s.t.~ y_{t+1} = y_t+u_t$\n",
    "\n",
    "$y_0,Y_0~\\text{Given}$"
   ]
  },
  {
   "cell_type": "markdown",
   "id": "c57f8c6f",
   "metadata": {},
   "source": [
    "This problem can be written in a Linear-Quadratic(LQ) form :\n",
    "\n",
    "$\\max_{u_t} - \\sum_{t=0}^\\infty \\beta^t \\big[\\vec{x}_t^\\top R \\vec{x}_t + u_t Q u_t\\big]$\n",
    "\n",
    "$s.t.~\\vec{x}_{t+1} = A \\vec{x}_t + B u_t$\n"
   ]
  },
  {
   "cell_type": "markdown",
   "id": "56da5582",
   "metadata": {},
   "source": [
    "Where \n",
    "\n",
    "$\\vec{x}_t \\equiv \\begin{bmatrix}1\\\\y_t\\\\Y_t\\end{bmatrix}~$, $R \\equiv \\begin{bmatrix}0 & -\\frac{\\alpha_0}{2} & 0 \\\\ -\\frac{\\alpha_0}{2} & 0 & \\frac{\\alpha_1}{2}\\\\ 0 & \\frac{\\alpha_1}{2} & 0 \\end{bmatrix}~$, $~Q \\equiv \\frac{\\gamma}{2}$\n",
    "\n",
    "$A \\equiv \\begin{bmatrix} 1 & 0 & 0\\\\ 0 & 1 & 0 \\\\ h_0 & 0 & h_1 \\end{bmatrix}~$, $B \\equiv \\begin{bmatrix} 0 \\\\ 1 \\\\0  \\end{bmatrix}$\n",
    "\n",
    "Now let's solve this via Algebraic Riccati Equation to get the anlaytical solution"
   ]
  },
  {
   "cell_type": "markdown",
   "id": "286f8475",
   "metadata": {},
   "source": [
    "## Exact Solution (semi-analytical)"
   ]
  },
  {
   "cell_type": "code",
   "execution_count": 1,
   "id": "95be5516",
   "metadata": {},
   "outputs": [],
   "source": [
    "import quantecon as qe\n",
    "import quantecon.lqcontrol as LQ\n",
    "import numpy as np\n",
    "\n",
    "import matplotlib.pyplot as plt\n"
   ]
  },
  {
   "cell_type": "code",
   "execution_count": 2,
   "id": "08bb51a1",
   "metadata": {},
   "outputs": [],
   "source": [
    "class Exact_sol:\n",
    "    def __init__(self,\n",
    "                 beta = 0.95,\n",
    "                 alpha_0 = 1.0,\n",
    "                 alpha_1 = 2.0,\n",
    "                 gamma = 90.0,\n",
    "                 h_0 =  0.03,\n",
    "                 h_1 = 0.94,\n",
    "                 time = 63,\n",
    "                 y_0 = 0.1,\n",
    "                 Y_0 = 0.2\n",
    "                ):\n",
    "        \n",
    "        self.beta = beta\n",
    "        self.alpha_0 = alpha_0\n",
    "        self.alpha_1 = alpha_1\n",
    "        self.gamma = gamma\n",
    "        self.h_0 = h_0\n",
    "        self.h_1= h_1\n",
    "        self.time = time\n",
    "        self.y_0 = y_0\n",
    "        self.Y_0 = Y_0\n",
    "        \n",
    "        self.R = np.matrix([[0.0,-self.alpha_0/2 , 0.0],[-self.alpha_0/2, 0.0, self.alpha_1/2],[0.0,self.alpha_1/2, 0.0]])\n",
    "        self.Q = self.gamma/2\n",
    "        self.A = np.matrix([[1.0,0.0,0.0],[0.0,1.0,0.0],[self.h_0,0.0, self.h_1]])\n",
    "        self.B = np.matrix([[0.0],[1.0],[0.0]])\n",
    "        \n",
    "        self.lq = LQ.LQ(self.Q, self.R, self.A, self.B, beta=self.beta)\n",
    "        self.P, self.F, self.d = self.lq.stationary_values()\n",
    "        \n",
    "        self.x_0 = np.matrix([[1.0],[self.y_0],[self.Y_0]])\n",
    "        self.dynamics = self.lq.compute_sequence(self.x_0,self.time)\n",
    "        \n",
    "        self.ones = self.dynamics[0][0].reshape([self.time+1,1])\n",
    "        self.y_t = self.dynamics[0][1].reshape([self.time+1,1])\n",
    "        self.Y_t = self.dynamics[0][2].reshape([self.time+1,1])\n",
    "        \n",
    "        self.x_t = np.concatenate((self.ones,self.y_t,self.Y_t), axis=1).T\n",
    "        \n",
    "        self.u_t = -np.dot(self.F,self.x_t).T\n",
    "        "
   ]
  },
  {
   "cell_type": "code",
   "execution_count": 3,
   "id": "587038a4",
   "metadata": {},
   "outputs": [],
   "source": [
    "fontsize= 16\n",
    "ticksize = 14\n",
    "figsize = (6, 3.5)\n",
    "params = {\"text.usetex\": True,\n",
    "    'font.family':'serif',\n",
    "    \"figure.figsize\":figsize, \n",
    "    'figure.dpi': 80,\n",
    "    'figure.edgecolor': 'k',\n",
    "    'font.size': fontsize, \n",
    "    'axes.labelsize': fontsize,\n",
    "    'axes.titlesize': fontsize,\n",
    "    'xtick.labelsize': ticksize,\n",
    "    'ytick.labelsize': ticksize\n",
    "}\n",
    "plt.rcParams.update(params)   "
   ]
  },
  {
   "cell_type": "code",
   "execution_count": 4,
   "id": "12913d82",
   "metadata": {},
   "outputs": [
    {
     "data": {
      "image/png": "[encoded data removed]",
      "text/plain": [
       "<Figure size 480x280 with 1 Axes>"
      ]
     },
     "metadata": {
      "needs_background": "light"
     },
     "output_type": "display_data"
    }
   ],
   "source": [
    "plt.plot(Exact_sol().u_t, \"--\", color='r', label= r\"Exact Solution\")\n",
    "plt.ylabel(r\"$u$\")\n",
    "plt.xlabel(r\"Time(t)\")\n",
    "plt.tight_layout()\n",
    "plt.legend(loc='best')\n",
    "plt.show()"
   ]
  },
  {
   "cell_type": "markdown",
   "id": "399f8c84",
   "metadata": {},
   "source": [
    "#### Voila you have half of the picture\n",
    "Let's get the other half. Before that lets do the last piece of the theory. I use the Euler equation here."
   ]
  },
  {
   "cell_type": "markdown",
   "id": "258c8fa2",
   "metadata": {},
   "source": [
    "## Euler Equation\n",
    "The Euler equation can be written as:\n",
    "\n",
    "$\\gamma u_t = \\beta \\big[\\gamma u_{t+1}+(\\alpha_0 -\\alpha_1 Y_{t+1})\\big]$\n",
    "\n",
    "where\n",
    "\n",
    "$Y_{t+1} = h_0 + h_1 Y_t$\n",
    "\n",
    "#### Recursive form:\n",
    "$\\gamma u(Y) = \\beta \\big[\\gamma u(Y')+(\\alpha_0 -\\alpha_1 Y')\\big]$\n",
    "\n",
    "where\n",
    "\n",
    "$Y' = h_0 + h_1 Y$\n",
    "\n",
    "#### Note:\n",
    "Here I wrote $u(Y)$, technically I should write $u(y,Y)$. However, if you stare at the Euler equation long enough, you see there is no $y$ in it, so it must be that $u$ does not depend on $y$. It is easy to check that also numerically. \n",
    "\n",
    "The soultion to the liear quadratic problem can be written as:\n",
    "\n",
    "$u(\\vec{x}) = - F . x = - (f_0 + f_1y + f_2 Y) $. So lets what the second element of $F$ is"
   ]
  },
  {
   "cell_type": "code",
   "execution_count": 5,
   "id": "1c8e22fa",
   "metadata": {},
   "outputs": [
    {
     "name": "stdout",
     "output_type": "stream",
     "text": [
      "The second element of F is  6.328271240363392e-17\n"
     ]
    }
   ],
   "source": [
    "print(\"The second element of F is \", Exact_sol().F[0,1])"
   ]
  },
  {
   "cell_type": "markdown",
   "id": "8f9bf10e",
   "metadata": {},
   "source": [
    "## Solving the Problem with a Deep Neural Net (DNN)\n",
    "\n",
    "Here we are looking a function $u$ (a neural net here) that solves the Euler equation. By solving I mean a function that minizes $L_2$ norm of the Euler residuals\n",
    "\n",
    "$\\varepsilon (Y;u)^2 \\equiv \\bigg(\\gamma u(Y)-\\beta\\big[\\gamma u\\big(Y'(Y)\\big)+ \\big(\\alpha_0 -\\alpha_1 Y'(Y)\\big)\\big]\\bigg)^2 $\n",
    "\n",
    "over some points of interest in state space $\\Gamma(Y) \\subset \\mathbb{R}$"
   ]
  },
  {
   "cell_type": "code",
   "execution_count": 6,
   "id": "3f8d226f",
   "metadata": {},
   "outputs": [],
   "source": [
    "import torch\n",
    "import torch.nn as nn\n",
    "import torch.nn.functional as F"
   ]
  },
  {
   "cell_type": "markdown",
   "id": "49bc7225",
   "metadata": {},
   "source": [
    "#### Defining the neural net"
   ]
  },
  {
   "cell_type": "code",
   "execution_count": 7,
   "id": "bc2ef04d",
   "metadata": {},
   "outputs": [],
   "source": [
    "class NN(nn.Module):\n",
    "    def __init__(self, \n",
    "                 dim_hidden = 128,\n",
    "                layers = 4,\n",
    "                hidden_bias = True):\n",
    "        super().__init__()\n",
    "        self.dim_hidden= dim_hidden\n",
    "        self.layers = layers\n",
    "        self.hidden_bias = hidden_bias\n",
    "        \n",
    "        torch.manual_seed(1234)\n",
    "        module = []\n",
    "        module.append(nn.Linear(1,self.dim_hidden, bias = self.hidden_bias))\n",
    "        module.append(nn.ReLU())\n",
    "        \n",
    "        for i in range(self.layers-1):\n",
    "            module.append(nn.Linear(self.dim_hidden,self.dim_hidden, bias = self.hidden_bias))\n",
    "            module.append(nn.ReLU())  \n",
    "            \n",
    "        module.append(nn.Linear(self.dim_hidden,1))\n",
    "        \n",
    "        self.u = nn.Sequential(*module)\n",
    "\n",
    "\n",
    "    def forward(self, x):\n",
    "        u_out = self.u(x)\n",
    "        return  u_out"
   ]
  },
  {
   "cell_type": "markdown",
   "id": "c4b36fd9",
   "metadata": {},
   "source": [
    "#### Preparing the data for training"
   ]
  },
  {
   "cell_type": "code",
   "execution_count": 8,
   "id": "15464822",
   "metadata": {},
   "outputs": [],
   "source": [
    "class Data:\n",
    "    def __init__(self,\n",
    "                 beta = 0.95,\n",
    "                 alpha_0 = 1.0,\n",
    "                 alpha_1 = 2.0,\n",
    "                 gamma = 90.0,\n",
    "                 h_0 =  0.03,\n",
    "                 h_1 = 0.94,\n",
    "                 time = 64,\n",
    "                 Y_0 = 0.2,\n",
    "                 batch_size = 4\n",
    "                ):\n",
    "        self.beta = beta\n",
    "        self.alpha_0 = alpha_0\n",
    "        self.alpha_1 = alpha_1\n",
    "        self.gamma = gamma\n",
    "        self.h_0 = h_0\n",
    "        self.h_1= h_1\n",
    "        self.time = time\n",
    "        self.Y_0 = Y_0\n",
    "        self.batch_size = batch_size\n",
    "        \n",
    "        self.Y_t = torch.zeros([self.time])\n",
    "        self.Y_t[0] = self.Y_0\n",
    "        for t in range(self.time-1):\n",
    "            self.Y_t[t+1] = self.h_0 + self.h_1*self.Y_t[t]\n",
    "            \n",
    "        self.Y_prime_t = self.h_0 + self.h_1*self.Y_t\n",
    "        \n",
    "        self.train_data = torch.stack((self.Y_t,self.Y_prime_t),1)\n"
   ]
  },
  {
   "cell_type": "markdown",
   "id": "1514fc12",
   "metadata": {},
   "source": [
    "#### Preparing the data loader \n",
    "This is needed because I am going to use [Stochastic Gradient Descent(SGD)](https://en.wikipedia.org/wiki/Stochastic_gradient_descent) optimization. If you are going to use gradient descent, you dont need this."
   ]
  },
  {
   "cell_type": "code",
   "execution_count": 9,
   "id": "cc82b03c",
   "metadata": {},
   "outputs": [],
   "source": [
    "from torch.utils.data import Dataset, DataLoader"
   ]
  },
  {
   "cell_type": "code",
   "execution_count": 10,
   "id": "6e07e9a7",
   "metadata": {},
   "outputs": [],
   "source": [
    "class Data_loader(Dataset):\n",
    "    \n",
    "    def __init__(self,data):\n",
    "        self.data = data\n",
    "        self.Y = self.data[:,[0]]\n",
    "        self.Y_prime = self.data[:,1:]\n",
    "        self.n_samples = self.data.shape[0]\n",
    "\n",
    "    def __getitem__(self,index):\n",
    "            return self.Y[index], self.Y_prime[index] # order: Y first, then Y_prime \n",
    "        \n",
    "    def __len__(self):\n",
    "        return self.n_samples"
   ]
  },
  {
   "cell_type": "code",
   "execution_count": 11,
   "id": "f6187e41",
   "metadata": {},
   "outputs": [],
   "source": [
    "data_set = Data().train_data\n",
    "data_label = Data_loader(data = data_set)\n",
    "batch_size = Data().batch_size\n",
    "train = DataLoader(dataset = data_label, batch_size = batch_size, shuffle = True)\n"
   ]
  },
  {
   "cell_type": "markdown",
   "id": "bbb7ceba",
   "metadata": {},
   "source": [
    "#### Defining the parameters"
   ]
  },
  {
   "cell_type": "code",
   "execution_count": 12,
   "id": "6ff22a0f",
   "metadata": {},
   "outputs": [],
   "source": [
    "α_0 = Data().alpha_0\n",
    "α_1 = Data().alpha_1\n",
    "γ = Data().gamma\n",
    "β = Data().beta"
   ]
  },
  {
   "cell_type": "code",
   "execution_count": 13,
   "id": "3cef5de8",
   "metadata": {},
   "outputs": [],
   "source": [
    "max_epochs = 1001"
   ]
  },
  {
   "cell_type": "markdown",
   "id": "2bbab56a",
   "metadata": {},
   "source": [
    "#### Initializing the neural net and setting up the optimizer"
   ]
  },
  {
   "cell_type": "code",
   "execution_count": 14,
   "id": "5e42e0af",
   "metadata": {},
   "outputs": [],
   "source": [
    "u_hat = NN()\n",
    "learning_rate = 1e-2\n",
    "\n",
    "optimizer = torch.optim.Adam(u_hat.parameters(), lr=learning_rate, weight_decay=0.0)\n",
    "scheduler = torch.optim.lr_scheduler.StepLR(optimizer, step_size=100, gamma=0.5)\n",
    "#scheduler = torch.optim.lr_scheduler.ReduceLROnPlateau(optimizer, factor = 0.1, patience = 20, threshold = 0.0 , cooldown =  1 )"
   ]
  },
  {
   "cell_type": "markdown",
   "id": "e6b182f7",
   "metadata": {},
   "source": [
    "#### Training loop"
   ]
  },
  {
   "cell_type": "code",
   "execution_count": 15,
   "id": "ef421046",
   "metadata": {},
   "outputs": [
    {
     "name": "stdout",
     "output_type": "stream",
     "text": [
      "epoch: 0 , MSE Euler Residuals: 8.15e-02\n",
      "epoch: 100 , MSE Euler Residuals: 6.81e-05\n",
      "epoch: 200 , MSE Euler Residuals: 1.01e-08\n",
      "epoch: 300 , MSE Euler Residuals: 1.14e-12\n",
      "epoch: 400 , MSE Euler Residuals: 1.59e-11\n",
      "epoch: 500 , MSE Euler Residuals: 2.15e-10\n",
      "epoch: 600 , MSE Euler Residuals: 2.08e-10\n",
      "epoch: 700 , MSE Euler Residuals: 1.35e-11\n",
      "epoch: 800 , MSE Euler Residuals: 1.11e-11\n",
      "epoch: 900 , MSE Euler Residuals: 7.63e-11\n",
      "epoch: 1000 , MSE Euler Residuals: 8.97e-13\n"
     ]
    }
   ],
   "source": [
    "for epoch in range(max_epochs):\n",
    "    for index, (Y,Y_prime) in enumerate(train):\n",
    "        \n",
    "        euler_res = γ*u_hat(Y) - β*( γ*u_hat(Y_prime) + α_0 - α_1* Y_prime )\n",
    "        loss = euler_res.pow(2).mean()\n",
    "        \n",
    "        optimizer.zero_grad()\n",
    "        \n",
    "        loss.backward()\n",
    "        \n",
    "        optimizer.step()\n",
    "    scheduler.step()\n",
    "    if epoch % 100 == 0:\n",
    "        #print(\"epoch:\",\",\",epoch,',',\"{:.2e}\".format(loss.item()),',',\"{:.2e}\".format(get_lr(optimizer))) \n",
    "        print(\"epoch:\",epoch, \",\",\"MSE Euler Residuals:\",\"{:.2e}\".format(loss.item()))    \n",
    "\n",
    "        "
   ]
  },
  {
   "cell_type": "markdown",
   "id": "8b2d72b1",
   "metadata": {},
   "source": [
    "#### Plotting the results"
   ]
  },
  {
   "cell_type": "code",
   "execution_count": 16,
   "id": "edaec143",
   "metadata": {},
   "outputs": [],
   "source": [
    "u_hat.eval()\n",
    "Y_t = Data().train_data[:,[0]]\n",
    "\n",
    "approx_sol = u_hat(Y_t).detach()\n",
    "\n",
    "exact_sol = Exact_sol().u_t"
   ]
  },
  {
   "cell_type": "code",
   "execution_count": 31,
   "id": "ba5f85de",
   "metadata": {},
   "outputs": [
    {
     "data": {
      "image/png": "[encoded data removed]",
      "text/plain": [
       "<Figure size 480x280 with 1 Axes>"
      ]
     },
     "metadata": {
      "needs_background": "light"
     },
     "output_type": "display_data"
    }
   ],
   "source": [
    "plt.plot(exact_sol, \"--\", color='r', label= r\"Exact Solution\")\n",
    "plt.plot(approx_sol,label= r\"Approximate Solution\" )\n",
    "plt.ylabel(r\"$u$\")\n",
    "plt.xlabel(r\"Time(t)\")\n",
    "plt.tight_layout()\n",
    "plt.legend(loc='best')\n",
    "plt.savefig(\"exact_vs_approx.pdf\")\n",
    "plt.show()"
   ]
  },
  {
   "cell_type": "markdown",
   "id": "ef43b3c0",
   "metadata": {},
   "source": [
    "#### Now you have the full picture\n",
    "The reason you dont see the exact solution is because the approximate solution completely covers exact solution. \n",
    "\n",
    "So let's look at the difference between the exact and approximate soloution"
   ]
  },
  {
   "cell_type": "code",
   "execution_count": 32,
   "id": "a0c0efab",
   "metadata": {},
   "outputs": [
    {
     "data": {
      "image/png": "[encoded data removed]",
      "text/plain": [
       "<Figure size 480x280 with 1 Axes>"
      ]
     },
     "metadata": {
      "needs_background": "light"
     },
     "output_type": "display_data"
    }
   ],
   "source": [
    "err = approx_sol - exact_sol\n",
    "plt.plot(err)\n",
    "plt.xlabel(r\"Time(t)\")\n",
    "plt.tight_layout()\n",
    "plt.title(r\"Difference between Exact and Approximate\")\n",
    "plt.savefig(\"err_exact_approx.pdf\")\n",
    "plt.show()"
   ]
  },
  {
   "cell_type": "code",
   "execution_count": null,
   "id": "5acaf10a",
   "metadata": {},
   "outputs": [],
   "source": []
  }
 ],
 "metadata": {
  "kernelspec": {
   "display_name": "Python 3",
   "language": "python",
   "name": "python3"
  },
  "language_info": {
   "codemirror_mode": {
    "name": "ipython",
    "version": 3
   },
   "file_extension": ".py",
   "mimetype": "text/x-python",
   "name": "python",
   "nbconvert_exporter": "python",
   "pygments_lexer": "ipython3",
   "version": "3.8.8"
  }
 },
 "nbformat": 4,
 "nbformat_minor": 5
}
